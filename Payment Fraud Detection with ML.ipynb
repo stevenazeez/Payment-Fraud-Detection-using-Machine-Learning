{
  "nbformat": 4,
  "nbformat_minor": 0,
  "metadata": {
    "colab": {
      "name": "Untitled6.ipynb",
      "provenance": [],
      "authorship_tag": "ABX9TyOdodVGa7gVKXwT2u1TQbZk"
    },
    "kernelspec": {
      "name": "python3",
      "display_name": "Python 3"
    },
    "language_info": {
      "name": "python"
    }
  },
  "cells": [
    {
      "cell_type": "code",
      "metadata": {
        "id": "ac9oLCV2w68i"
      },
      "source": [
        ""
      ],
      "execution_count": null,
      "outputs": []
    },
    {
      "cell_type": "markdown",
      "metadata": {
        "id": "pZNvm8RYxRhe"
      },
      "source": [
        "Welcome!"
      ]
    },
    {
      "cell_type": "markdown",
      "metadata": {
        "id": "ykGTJXKD4-aK"
      },
      "source": [
        "# **Payment Fraud Detection with Machine Learning**"
      ]
    },
    {
      "cell_type": "markdown",
      "metadata": {
        "id": "KmqXwj3f5p_r"
      },
      "source": [
        "> Fraud is one of the major issues accross industries such as banks, life insurance, health insurance, and many others... including the local coffee shop around the neighboorhood corner. But one such fraud that has been increasing a lot these days is fraud in making payments. For this ML project, the aim is proffer a solution model to fraud detection with machine learning, as well as making real-time decisions. ML model will be assessing individual customer behaviour as it happens. It’s constantly analyzing ‘normal’ customer activity, so when it spots an anomaly it can automatically block or flag a payment for review."
      ]
    },
    {
      "cell_type": "code",
      "metadata": {
        "id": "btDWlyPL8Ira"
      },
      "source": [
        "#importing Libaries\n",
        "import pandas as pd\n",
        "import numpy as np\n",
        "from sklearn.model_selection import train_test_split\n",
        "from sklearn.linear_model import LogisticRegression\n",
        "from sklearn.metrics import accuracy_score, confusion_matrix"
      ],
      "execution_count": 1,
      "outputs": []
    },
    {
      "cell_type": "code",
      "metadata": {
        "id": "tQzF5CSc8dr5"
      },
      "source": [
        "#Loading Data\n",
        "Fraud_Data = pd.read_csv('/content/Payment Fraud Data.csv')"
      ],
      "execution_count": 2,
      "outputs": []
    },
    {
      "cell_type": "code",
      "metadata": {
        "colab": {
          "base_uri": "https://localhost:8080/",
          "height": 204
        },
        "id": "pqB4ok-S_mCc",
        "outputId": "597c949a-679d-4149-e741-659e9a6a7a2d"
      },
      "source": [
        "#Taking a quick look at the data\n",
        "Fraud_Data.head()"
      ],
      "execution_count": 3,
      "outputs": [
        {
          "output_type": "execute_result",
          "data": {
            "text/html": [
              "<div>\n",
              "<style scoped>\n",
              "    .dataframe tbody tr th:only-of-type {\n",
              "        vertical-align: middle;\n",
              "    }\n",
              "\n",
              "    .dataframe tbody tr th {\n",
              "        vertical-align: top;\n",
              "    }\n",
              "\n",
              "    .dataframe thead th {\n",
              "        text-align: right;\n",
              "    }\n",
              "</style>\n",
              "<table border=\"1\" class=\"dataframe\">\n",
              "  <thead>\n",
              "    <tr style=\"text-align: right;\">\n",
              "      <th></th>\n",
              "      <th>accountAgeDays</th>\n",
              "      <th>numItems</th>\n",
              "      <th>localTime</th>\n",
              "      <th>paymentMethod</th>\n",
              "      <th>paymentMethodAgeDays</th>\n",
              "      <th>label</th>\n",
              "    </tr>\n",
              "  </thead>\n",
              "  <tbody>\n",
              "    <tr>\n",
              "      <th>0</th>\n",
              "      <td>29</td>\n",
              "      <td>1</td>\n",
              "      <td>4.745402</td>\n",
              "      <td>paypal</td>\n",
              "      <td>28.204861</td>\n",
              "      <td>0</td>\n",
              "    </tr>\n",
              "    <tr>\n",
              "      <th>1</th>\n",
              "      <td>725</td>\n",
              "      <td>1</td>\n",
              "      <td>4.742303</td>\n",
              "      <td>storecredit</td>\n",
              "      <td>0.000000</td>\n",
              "      <td>0</td>\n",
              "    </tr>\n",
              "    <tr>\n",
              "      <th>2</th>\n",
              "      <td>845</td>\n",
              "      <td>1</td>\n",
              "      <td>4.921318</td>\n",
              "      <td>creditcard</td>\n",
              "      <td>0.000000</td>\n",
              "      <td>0</td>\n",
              "    </tr>\n",
              "    <tr>\n",
              "      <th>3</th>\n",
              "      <td>503</td>\n",
              "      <td>1</td>\n",
              "      <td>4.886641</td>\n",
              "      <td>creditcard</td>\n",
              "      <td>0.000000</td>\n",
              "      <td>0</td>\n",
              "    </tr>\n",
              "    <tr>\n",
              "      <th>4</th>\n",
              "      <td>2000</td>\n",
              "      <td>1</td>\n",
              "      <td>5.040929</td>\n",
              "      <td>creditcard</td>\n",
              "      <td>0.000000</td>\n",
              "      <td>0</td>\n",
              "    </tr>\n",
              "  </tbody>\n",
              "</table>\n",
              "</div>"
            ],
            "text/plain": [
              "   accountAgeDays  numItems  ...  paymentMethodAgeDays label\n",
              "0              29         1  ...             28.204861     0\n",
              "1             725         1  ...              0.000000     0\n",
              "2             845         1  ...              0.000000     0\n",
              "3             503         1  ...              0.000000     0\n",
              "4            2000         1  ...              0.000000     0\n",
              "\n",
              "[5 rows x 6 columns]"
            ]
          },
          "metadata": {},
          "execution_count": 3
        }
      ]
    },
    {
      "cell_type": "code",
      "metadata": {
        "id": "pyi2vu88NZji"
      },
      "source": [
        "# Label Encoding Stay column in train dataset to numeric\n",
        "from sklearn import preprocessing\n",
        "lencoder = preprocessing.LabelEncoder()\n",
        "\n",
        "Fraud_Data['paymentMethod'] = lencoder.fit_transform(Fraud_Data['paymentMethod'].astype('str'))\n"
      ],
      "execution_count": 31,
      "outputs": []
    },
    {
      "cell_type": "code",
      "metadata": {
        "colab": {
          "base_uri": "https://localhost:8080/",
          "height": 204
        },
        "id": "h7A57wLDNsB3",
        "outputId": "c3d10181-8d70-41e4-dbe3-c5ee87278929"
      },
      "source": [
        "Fraud_Data.head()"
      ],
      "execution_count": 19,
      "outputs": [
        {
          "output_type": "execute_result",
          "data": {
            "text/html": [
              "<div>\n",
              "<style scoped>\n",
              "    .dataframe tbody tr th:only-of-type {\n",
              "        vertical-align: middle;\n",
              "    }\n",
              "\n",
              "    .dataframe tbody tr th {\n",
              "        vertical-align: top;\n",
              "    }\n",
              "\n",
              "    .dataframe thead th {\n",
              "        text-align: right;\n",
              "    }\n",
              "</style>\n",
              "<table border=\"1\" class=\"dataframe\">\n",
              "  <thead>\n",
              "    <tr style=\"text-align: right;\">\n",
              "      <th></th>\n",
              "      <th>accountAgeDays</th>\n",
              "      <th>numItems</th>\n",
              "      <th>localTime</th>\n",
              "      <th>paymentMethod</th>\n",
              "      <th>paymentMethodAgeDays</th>\n",
              "      <th>label</th>\n",
              "    </tr>\n",
              "  </thead>\n",
              "  <tbody>\n",
              "    <tr>\n",
              "      <th>0</th>\n",
              "      <td>29</td>\n",
              "      <td>1</td>\n",
              "      <td>4.745402</td>\n",
              "      <td>1</td>\n",
              "      <td>28.204861</td>\n",
              "      <td>0</td>\n",
              "    </tr>\n",
              "    <tr>\n",
              "      <th>1</th>\n",
              "      <td>725</td>\n",
              "      <td>1</td>\n",
              "      <td>4.742303</td>\n",
              "      <td>2</td>\n",
              "      <td>0.000000</td>\n",
              "      <td>0</td>\n",
              "    </tr>\n",
              "    <tr>\n",
              "      <th>2</th>\n",
              "      <td>845</td>\n",
              "      <td>1</td>\n",
              "      <td>4.921318</td>\n",
              "      <td>0</td>\n",
              "      <td>0.000000</td>\n",
              "      <td>0</td>\n",
              "    </tr>\n",
              "    <tr>\n",
              "      <th>3</th>\n",
              "      <td>503</td>\n",
              "      <td>1</td>\n",
              "      <td>4.886641</td>\n",
              "      <td>0</td>\n",
              "      <td>0.000000</td>\n",
              "      <td>0</td>\n",
              "    </tr>\n",
              "    <tr>\n",
              "      <th>4</th>\n",
              "      <td>2000</td>\n",
              "      <td>1</td>\n",
              "      <td>5.040929</td>\n",
              "      <td>0</td>\n",
              "      <td>0.000000</td>\n",
              "      <td>0</td>\n",
              "    </tr>\n",
              "  </tbody>\n",
              "</table>\n",
              "</div>"
            ],
            "text/plain": [
              "   accountAgeDays  numItems  ...  paymentMethodAgeDays  label\n",
              "0              29         1  ...             28.204861      0\n",
              "1             725         1  ...              0.000000      0\n",
              "2             845         1  ...              0.000000      0\n",
              "3             503         1  ...              0.000000      0\n",
              "4            2000         1  ...              0.000000      0\n",
              "\n",
              "[5 rows x 6 columns]"
            ]
          },
          "metadata": {},
          "execution_count": 19
        }
      ]
    },
    {
      "cell_type": "markdown",
      "metadata": {
        "id": "d3e0MnaqAWx8"
      },
      "source": [
        "Checking data for possible data cleansing"
      ]
    },
    {
      "cell_type": "code",
      "metadata": {
        "colab": {
          "base_uri": "https://localhost:8080/"
        },
        "id": "rxWA9wO9_zk5",
        "outputId": "7b8b4fe9-bc15-4ba2-bc0f-b4a925b3d24e"
      },
      "source": [
        "Fraud_Data.info()"
      ],
      "execution_count": 33,
      "outputs": [
        {
          "output_type": "stream",
          "name": "stdout",
          "text": [
            "<class 'pandas.core.frame.DataFrame'>\n",
            "RangeIndex: 39221 entries, 0 to 39220\n",
            "Data columns (total 6 columns):\n",
            " #   Column                Non-Null Count  Dtype  \n",
            "---  ------                --------------  -----  \n",
            " 0   accountAgeDays        39221 non-null  int64  \n",
            " 1   numItems              39221 non-null  int64  \n",
            " 2   localTime             39221 non-null  float64\n",
            " 3   paymentMethod         39221 non-null  int64  \n",
            " 4   paymentMethodAgeDays  39221 non-null  float64\n",
            " 5   label                 39221 non-null  int64  \n",
            "dtypes: float64(2), int64(4)\n",
            "memory usage: 1.8 MB\n"
          ]
        }
      ]
    },
    {
      "cell_type": "code",
      "metadata": {
        "colab": {
          "base_uri": "https://localhost:8080/"
        },
        "id": "9c7nA3KvABxI",
        "outputId": "7cbdc6f4-0eee-4c65-ab87-00fab0b599e9"
      },
      "source": [
        "Fraud_Data.isnull().sum()"
      ],
      "execution_count": 34,
      "outputs": [
        {
          "output_type": "execute_result",
          "data": {
            "text/plain": [
              "accountAgeDays          0\n",
              "numItems                0\n",
              "localTime               0\n",
              "paymentMethod           0\n",
              "paymentMethodAgeDays    0\n",
              "label                   0\n",
              "dtype: int64"
            ]
          },
          "metadata": {},
          "execution_count": 34
        }
      ]
    },
    {
      "cell_type": "markdown",
      "metadata": {
        "id": "ItbkafIrAeVA"
      },
      "source": [
        "Fortunately, the dataset is already well structured with no missing or any scope needing data cleaning in it.\n",
        "\n",
        "Now, Let's dive into building our machine learning model."
      ]
    },
    {
      "cell_type": "markdown",
      "metadata": {
        "id": "dKWJqvayBg2-"
      },
      "source": [
        "## **Fraud Detection Model**"
      ]
    },
    {
      "cell_type": "code",
      "metadata": {
        "id": "IQEa0bT2Bm2I"
      },
      "source": [
        "# Split dataset up into train and test sets\n",
        "X = Fraud_Data.drop('label', axis =1 )\n",
        "y = Fraud_Data['label']\n",
        "\n",
        "X_train, X_test, y_train, y_test = train_test_split( X, y, test_size=0.33, random_state=17)"
      ],
      "execution_count": 37,
      "outputs": []
    },
    {
      "cell_type": "code",
      "metadata": {
        "id": "WyHQpQIdCif0"
      },
      "source": [
        "LogRegression = LogisticRegression()\n",
        "LogReg_Predict = LogRegression.fit(X_train, y_train)"
      ],
      "execution_count": 39,
      "outputs": []
    },
    {
      "cell_type": "code",
      "metadata": {
        "colab": {
          "base_uri": "https://localhost:8080/"
        },
        "id": "lcpyns5yRAF_",
        "outputId": "9bf5da49-034b-4041-bc70-a2f43bd56976"
      },
      "source": [
        "y_predition = LogReg_Predict.predict(X_test)\n",
        "print(accuracy_score(y_predition, y_test))"
      ],
      "execution_count": 41,
      "outputs": [
        {
          "output_type": "stream",
          "name": "stdout",
          "text": [
            "1.0\n"
          ]
        }
      ]
    },
    {
      "cell_type": "markdown",
      "metadata": {
        "id": "H7_v8GZlRxvN"
      },
      "source": [
        "From the accuracy score output, the fraud detection model gave an accuracy of 100 per cent by using the logistic regression algorithm."
      ]
    },
    {
      "cell_type": "markdown",
      "metadata": {
        "id": "B-8kbme3R7KP"
      },
      "source": [
        "## **Model Evaluation**\n",
        "\n",
        "Now, let’s evaluate the model performance model. To evaluate, confusion matrix algorithm will be used to evaluate the model performance"
      ]
    },
    {
      "cell_type": "code",
      "metadata": {
        "colab": {
          "base_uri": "https://localhost:8080/"
        },
        "id": "shdW9e3vSgmA",
        "outputId": "f7150437-2770-42b0-a93b-2c733cdb1335"
      },
      "source": [
        "# Compare test set predictions with ground truth labels\n",
        "print(confusion_matrix(y_test, y_predition))"
      ],
      "execution_count": 42,
      "outputs": [
        {
          "output_type": "stream",
          "name": "stdout",
          "text": [
            "[[12753     0]\n",
            " [    0   190]]\n"
          ]
        }
      ]
    },
    {
      "cell_type": "markdown",
      "metadata": {
        "id": "_ffhJuKWSokq"
      },
      "source": [
        "From the above confusion matrix output,  of all the transaction in the dataset, 190 transactions are correctly recognized as fraud, and 12753 transactions are recognized as not fraudulent transactions."
      ]
    },
    {
      "cell_type": "code",
      "metadata": {
        "id": "pZMFqKa2S5EF"
      },
      "source": [
        "#End!"
      ],
      "execution_count": null,
      "outputs": []
    }
  ]
}